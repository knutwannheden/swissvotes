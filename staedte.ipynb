{
 "cells": [
  {
   "cell_type": "code",
   "execution_count": 2,
   "metadata": {
    "collapsed": true
   },
   "outputs": [],
   "source": [
    "import altair as alt\n",
    "import pandas as pd\n",
    "import duckdb"
   ]
  },
  {
   "cell_type": "code",
   "execution_count": 15,
   "outputs": [],
   "source": [
    "energie_df = pd.read_csv('https://dam-api.bfs.admin.ch/hub/api/dam/assets/20764974/master', sep=';')\n",
    "pop_df = pd.read_csv('https://dam-api.bfs.admin.ch/hub/api/dam/assets/20764979/master', sep=';')"
   ],
   "metadata": {
    "collapsed": false
   }
  },
  {
   "cell_type": "code",
   "execution_count": 27,
   "outputs": [
    {
     "data": {
      "text/plain": "   GEO_NR    GEO_NAME CLASS_HAB GEOM_PERIOD VARIABLE SOURCE  VALUE_PERIOD  \\\n0     261      Zürich         6  2020-01-01    gaz_t   SVGW          2020   \n1    6621      Genève         6  2020-01-01    gaz_t   SVGW          2020   \n2    2701       Basel         6  2020-01-01    gaz_t   SVGW          2020   \n3    5890       Vevey         3  2020-01-01    gaz_t   SVGW          2020   \n4    5586    Lausanne         6  2020-01-01    gaz_t   SVGW          2020   \n..    ...         ...       ...         ...      ...    ...           ...   \n58    581  Interlaken         1  2020-01-01    gaz_t   SVGW          2020   \n59   4436  Romanshorn         2  2020-01-01    gaz_t   SVGW          2020   \n60   1301  Einsiedeln         3  2020-01-01    gaz_t   SVGW          2020   \n61    177   Pfäffikon         2  2020-01-01    gaz_t   SVGW          2020   \n62   6711    Delémont         2  2020-01-01    gaz_t   SVGW          2020   \n\n   UNIT_VALUE      VALUE STATUS  \n0         Num  4169908.0      A  \n1         Num  3038000.0      A  \n2         Num  2862558.0      A  \n3         Num  1518585.0      A  \n4         Num  1432160.0      A  \n..        ...        ...    ...  \n58        Num    45060.0      A  \n59        Num    41205.0      A  \n60        Num    33646.0      A  \n61        Num    27779.0      A  \n62        Num    15692.0      A  \n\n[63 rows x 10 columns]",
      "text/html": "<div>\n<style scoped>\n    .dataframe tbody tr th:only-of-type {\n        vertical-align: middle;\n    }\n\n    .dataframe tbody tr th {\n        vertical-align: top;\n    }\n\n    .dataframe thead th {\n        text-align: right;\n    }\n</style>\n<table border=\"1\" class=\"dataframe\">\n  <thead>\n    <tr style=\"text-align: right;\">\n      <th></th>\n      <th>GEO_NR</th>\n      <th>GEO_NAME</th>\n      <th>CLASS_HAB</th>\n      <th>GEOM_PERIOD</th>\n      <th>VARIABLE</th>\n      <th>SOURCE</th>\n      <th>VALUE_PERIOD</th>\n      <th>UNIT_VALUE</th>\n      <th>VALUE</th>\n      <th>STATUS</th>\n    </tr>\n  </thead>\n  <tbody>\n    <tr>\n      <th>0</th>\n      <td>261</td>\n      <td>Zürich</td>\n      <td>6</td>\n      <td>2020-01-01</td>\n      <td>gaz_t</td>\n      <td>SVGW</td>\n      <td>2020</td>\n      <td>Num</td>\n      <td>4169908.0</td>\n      <td>A</td>\n    </tr>\n    <tr>\n      <th>1</th>\n      <td>6621</td>\n      <td>Genève</td>\n      <td>6</td>\n      <td>2020-01-01</td>\n      <td>gaz_t</td>\n      <td>SVGW</td>\n      <td>2020</td>\n      <td>Num</td>\n      <td>3038000.0</td>\n      <td>A</td>\n    </tr>\n    <tr>\n      <th>2</th>\n      <td>2701</td>\n      <td>Basel</td>\n      <td>6</td>\n      <td>2020-01-01</td>\n      <td>gaz_t</td>\n      <td>SVGW</td>\n      <td>2020</td>\n      <td>Num</td>\n      <td>2862558.0</td>\n      <td>A</td>\n    </tr>\n    <tr>\n      <th>3</th>\n      <td>5890</td>\n      <td>Vevey</td>\n      <td>3</td>\n      <td>2020-01-01</td>\n      <td>gaz_t</td>\n      <td>SVGW</td>\n      <td>2020</td>\n      <td>Num</td>\n      <td>1518585.0</td>\n      <td>A</td>\n    </tr>\n    <tr>\n      <th>4</th>\n      <td>5586</td>\n      <td>Lausanne</td>\n      <td>6</td>\n      <td>2020-01-01</td>\n      <td>gaz_t</td>\n      <td>SVGW</td>\n      <td>2020</td>\n      <td>Num</td>\n      <td>1432160.0</td>\n      <td>A</td>\n    </tr>\n    <tr>\n      <th>...</th>\n      <td>...</td>\n      <td>...</td>\n      <td>...</td>\n      <td>...</td>\n      <td>...</td>\n      <td>...</td>\n      <td>...</td>\n      <td>...</td>\n      <td>...</td>\n      <td>...</td>\n    </tr>\n    <tr>\n      <th>58</th>\n      <td>581</td>\n      <td>Interlaken</td>\n      <td>1</td>\n      <td>2020-01-01</td>\n      <td>gaz_t</td>\n      <td>SVGW</td>\n      <td>2020</td>\n      <td>Num</td>\n      <td>45060.0</td>\n      <td>A</td>\n    </tr>\n    <tr>\n      <th>59</th>\n      <td>4436</td>\n      <td>Romanshorn</td>\n      <td>2</td>\n      <td>2020-01-01</td>\n      <td>gaz_t</td>\n      <td>SVGW</td>\n      <td>2020</td>\n      <td>Num</td>\n      <td>41205.0</td>\n      <td>A</td>\n    </tr>\n    <tr>\n      <th>60</th>\n      <td>1301</td>\n      <td>Einsiedeln</td>\n      <td>3</td>\n      <td>2020-01-01</td>\n      <td>gaz_t</td>\n      <td>SVGW</td>\n      <td>2020</td>\n      <td>Num</td>\n      <td>33646.0</td>\n      <td>A</td>\n    </tr>\n    <tr>\n      <th>61</th>\n      <td>177</td>\n      <td>Pfäffikon</td>\n      <td>2</td>\n      <td>2020-01-01</td>\n      <td>gaz_t</td>\n      <td>SVGW</td>\n      <td>2020</td>\n      <td>Num</td>\n      <td>27779.0</td>\n      <td>A</td>\n    </tr>\n    <tr>\n      <th>62</th>\n      <td>6711</td>\n      <td>Delémont</td>\n      <td>2</td>\n      <td>2020-01-01</td>\n      <td>gaz_t</td>\n      <td>SVGW</td>\n      <td>2020</td>\n      <td>Num</td>\n      <td>15692.0</td>\n      <td>A</td>\n    </tr>\n  </tbody>\n</table>\n<p>63 rows × 10 columns</p>\n</div>"
     },
     "execution_count": 27,
     "metadata": {},
     "output_type": "execute_result"
    }
   ],
   "source": [
    "duckdb.query('''\n",
    "    select *\n",
    "    from energie_df\n",
    "    where 1=1\n",
    "      -- and GEO_NAME in ('Bern', 'Zürich')\n",
    "      and VARIABLE = 'gaz_t'\n",
    "    order by VALUE desc nulls last\n",
    "''').to_df()"
   ],
   "metadata": {
    "collapsed": false
   }
  },
  {
   "cell_type": "code",
   "execution_count": 30,
   "outputs": [
    {
     "data": {
      "text/plain": "      GEO_NAME  (e.\"value\") / (p.\"value\")      VALUE  VALUE_2\n0        Vevey                  76.882594  1518585.0  19752.0\n1    Solothurn                  50.368587   846293.0  16802.0\n2   Weinfelden                  34.345258   399401.0  11629.0\n3      Chiasso                  24.743306   187579.0   7581.0\n4        Olten                  24.677984   456444.0  18496.0\n..         ...                        ...        ...      ...\n58    Dietikon                   2.807642    78774.0  28057.0\n59      Kloten                   2.422341    49486.0  20429.0\n60   Pfäffikon                   2.281830    27779.0  12174.0\n61  Einsiedeln                   2.070905    33646.0  16247.0\n62    Delémont                   1.243620    15692.0  12618.0\n\n[63 rows x 4 columns]",
      "text/html": "<div>\n<style scoped>\n    .dataframe tbody tr th:only-of-type {\n        vertical-align: middle;\n    }\n\n    .dataframe tbody tr th {\n        vertical-align: top;\n    }\n\n    .dataframe thead th {\n        text-align: right;\n    }\n</style>\n<table border=\"1\" class=\"dataframe\">\n  <thead>\n    <tr style=\"text-align: right;\">\n      <th></th>\n      <th>GEO_NAME</th>\n      <th>(e.\"value\") / (p.\"value\")</th>\n      <th>VALUE</th>\n      <th>VALUE_2</th>\n    </tr>\n  </thead>\n  <tbody>\n    <tr>\n      <th>0</th>\n      <td>Vevey</td>\n      <td>76.882594</td>\n      <td>1518585.0</td>\n      <td>19752.0</td>\n    </tr>\n    <tr>\n      <th>1</th>\n      <td>Solothurn</td>\n      <td>50.368587</td>\n      <td>846293.0</td>\n      <td>16802.0</td>\n    </tr>\n    <tr>\n      <th>2</th>\n      <td>Weinfelden</td>\n      <td>34.345258</td>\n      <td>399401.0</td>\n      <td>11629.0</td>\n    </tr>\n    <tr>\n      <th>3</th>\n      <td>Chiasso</td>\n      <td>24.743306</td>\n      <td>187579.0</td>\n      <td>7581.0</td>\n    </tr>\n    <tr>\n      <th>4</th>\n      <td>Olten</td>\n      <td>24.677984</td>\n      <td>456444.0</td>\n      <td>18496.0</td>\n    </tr>\n    <tr>\n      <th>...</th>\n      <td>...</td>\n      <td>...</td>\n      <td>...</td>\n      <td>...</td>\n    </tr>\n    <tr>\n      <th>58</th>\n      <td>Dietikon</td>\n      <td>2.807642</td>\n      <td>78774.0</td>\n      <td>28057.0</td>\n    </tr>\n    <tr>\n      <th>59</th>\n      <td>Kloten</td>\n      <td>2.422341</td>\n      <td>49486.0</td>\n      <td>20429.0</td>\n    </tr>\n    <tr>\n      <th>60</th>\n      <td>Pfäffikon</td>\n      <td>2.281830</td>\n      <td>27779.0</td>\n      <td>12174.0</td>\n    </tr>\n    <tr>\n      <th>61</th>\n      <td>Einsiedeln</td>\n      <td>2.070905</td>\n      <td>33646.0</td>\n      <td>16247.0</td>\n    </tr>\n    <tr>\n      <th>62</th>\n      <td>Delémont</td>\n      <td>1.243620</td>\n      <td>15692.0</td>\n      <td>12618.0</td>\n    </tr>\n  </tbody>\n</table>\n<p>63 rows × 4 columns</p>\n</div>"
     },
     "execution_count": 30,
     "metadata": {},
     "output_type": "execute_result"
    }
   ],
   "source": [
    "duckdb.query('''\n",
    "    select e.GEO_NAME, e.VALUE / p.VALUE, e.VALUE, p.VALUE\n",
    "    from (select * from energie_df) e\n",
    "    join (select * from pop_df where VARIABLE = 'pop2020' and STATUS = 'A') p on p.GEO_NAME = e.GEO_NAME\n",
    "    where 1=1\n",
    "      -- and e.GEO_NAME in ('Bern', 'Zürich')\n",
    "      and e.VARIABLE = 'gaz_t'\n",
    "      and e.STATUS = 'A'\n",
    "    order by 2 desc nulls last\n",
    "''').to_df()"
   ],
   "metadata": {
    "collapsed": false
   }
  },
  {
   "cell_type": "code",
   "execution_count": 3,
   "outputs": [],
   "source": [
    "bodennutzung_df = pd.read_csv('https://dam-api.bfs.admin.ch/hub/api/dam/assets/20844688/master', sep=';')"
   ],
   "metadata": {
    "collapsed": false
   }
  },
  {
   "cell_type": "code",
   "execution_count": 134,
   "outputs": [
    {
     "data": {
      "text/plain": "  GEO_NR     GEO_NAME  versiegelt79_pct  versiegelt13_pct  veraenderung\n0    371  Biel/Bienne              26.1              31.6           5.5\n1   3203   St. Gallen              20.9              26.0           5.1\n2   1061       Luzern              26.8              31.8           5.0\n3   5586     Lausanne              22.6              27.1           4.5\n4    230   Winterthur              17.6              21.7           4.1\n5    261       Zürich              36.7              40.3           3.6\n6    351         Bern              25.8              29.3           3.5\n7   6621       Genève              62.1              65.5           3.4\n8   5192       Lugano               8.4              11.2           2.8\n9   2701        Basel              60.0              60.3           0.3",
      "text/html": "<div>\n<style scoped>\n    .dataframe tbody tr th:only-of-type {\n        vertical-align: middle;\n    }\n\n    .dataframe tbody tr th {\n        vertical-align: top;\n    }\n\n    .dataframe thead th {\n        text-align: right;\n    }\n</style>\n<table border=\"1\" class=\"dataframe\">\n  <thead>\n    <tr style=\"text-align: right;\">\n      <th></th>\n      <th>GEO_NR</th>\n      <th>GEO_NAME</th>\n      <th>versiegelt79_pct</th>\n      <th>versiegelt13_pct</th>\n      <th>veraenderung</th>\n    </tr>\n  </thead>\n  <tbody>\n    <tr>\n      <th>0</th>\n      <td>371</td>\n      <td>Biel/Bienne</td>\n      <td>26.1</td>\n      <td>31.6</td>\n      <td>5.5</td>\n    </tr>\n    <tr>\n      <th>1</th>\n      <td>3203</td>\n      <td>St. Gallen</td>\n      <td>20.9</td>\n      <td>26.0</td>\n      <td>5.1</td>\n    </tr>\n    <tr>\n      <th>2</th>\n      <td>1061</td>\n      <td>Luzern</td>\n      <td>26.8</td>\n      <td>31.8</td>\n      <td>5.0</td>\n    </tr>\n    <tr>\n      <th>3</th>\n      <td>5586</td>\n      <td>Lausanne</td>\n      <td>22.6</td>\n      <td>27.1</td>\n      <td>4.5</td>\n    </tr>\n    <tr>\n      <th>4</th>\n      <td>230</td>\n      <td>Winterthur</td>\n      <td>17.6</td>\n      <td>21.7</td>\n      <td>4.1</td>\n    </tr>\n    <tr>\n      <th>5</th>\n      <td>261</td>\n      <td>Zürich</td>\n      <td>36.7</td>\n      <td>40.3</td>\n      <td>3.6</td>\n    </tr>\n    <tr>\n      <th>6</th>\n      <td>351</td>\n      <td>Bern</td>\n      <td>25.8</td>\n      <td>29.3</td>\n      <td>3.5</td>\n    </tr>\n    <tr>\n      <th>7</th>\n      <td>6621</td>\n      <td>Genève</td>\n      <td>62.1</td>\n      <td>65.5</td>\n      <td>3.4</td>\n    </tr>\n    <tr>\n      <th>8</th>\n      <td>5192</td>\n      <td>Lugano</td>\n      <td>8.4</td>\n      <td>11.2</td>\n      <td>2.8</td>\n    </tr>\n    <tr>\n      <th>9</th>\n      <td>2701</td>\n      <td>Basel</td>\n      <td>60.0</td>\n      <td>60.3</td>\n      <td>0.3</td>\n    </tr>\n  </tbody>\n</table>\n</div>"
     },
     "execution_count": 134,
     "metadata": {},
     "output_type": "execute_result"
    }
   ],
   "source": [
    "duckdb.query('''\n",
    "    select distinct\n",
    "        geo_nr,\n",
    "        geo_name,\n",
    "        (select value from bodennutzung_df b2 where b.geo_nr = b2.geo_nr and variable = 'sur_imp_p79') versiegelt79_pct,\n",
    "        (select value from bodennutzung_df b2 where b.geo_nr = b2.geo_nr and variable = 'sur_imp_p13') versiegelt13_pct,\n",
    "        (select value from bodennutzung_df b2 where b.geo_nr = b2.geo_nr and variable = 'sur_imp_p13') -\n",
    "        (select value from bodennutzung_df b2 where b.geo_nr = b2.geo_nr and variable = 'sur_imp_p79') veraenderung\n",
    "    from bodennutzung_df b\n",
    "    where 1=1\n",
    "    and geo_nr ~ '^\\d+$'\n",
    "    and class_hab >= 5\n",
    "    order by (select value from bodennutzung_df b2 where b.geo_nr = b2.geo_nr and variable = 'sur_imp_p13') - (select value from bodennutzung_df b2 where b.geo_nr = b2.geo_nr and variable = 'sur_imp_p79') desc nulls last\n",
    "''').to_df()"
   ],
   "metadata": {
    "collapsed": false
   }
  },
  {
   "cell_type": "code",
   "execution_count": 140,
   "outputs": [
    {
     "data": {
      "text/plain": "   GEO_NR           GEO_NAME  sum(\"value\")  agr_pct\n0    5002         Bellinzona       16411.0  16420.0\n1     261             Zürich        8794.0   8793.0\n2    5192             Lugano        7598.0   7585.0\n3     230         Winterthur        6811.0   6807.0\n4    6421  La Chaux-de-Fonds        5573.0   5571.0\n5    3901               Chur        5417.0   5424.0\n6     351               Bern        5162.0   5162.0\n7     355              Köniz        5105.0   5101.0\n8    2939       Schaffhausen        4192.0   4185.0\n9    5586           Lausanne        4137.0   4138.0\n10   3203         St. Gallen        3931.0   3938.0\n11    293          Wädenswil        3559.0   3564.0\n12   6266               Sion        3476.0   3486.0\n13   5886           Montreux        3346.0   3341.0\n14   6136           Martigny        3254.0   3259.0\n15    295             Horgen        3084.0   3083.0\n16   6458          Neuchâtel        2998.0   3008.0\n17   1061             Luzern        2908.0   2910.0\n18    198              Uster        2850.0   2849.0\n19   4566         Frauenfeld        2740.0   2735.0\n20   1059             Kriens        2726.0   2730.0\n21   1701               Baar        2478.0   2485.0\n22   2701              Basel        2388.0   2385.0\n23   2125              Bulle        2382.0   2386.0\n24   3340    Rapperswil-Jona        2215.0   2225.0\n25   1711                Zug        2170.0   2162.0\n26    942               Thun        2156.0   2157.0\n27    371        Biel/Bienne        2120.0   2119.0\n28   3427           Wil (SG)        2084.0   2082.0\n29   1024              Emmen        2037.0   2037.0\n30     62             Kloten        1932.0   1927.0\n31    121      Wetzikon (ZH)        1672.0   1681.0\n32     53             Bülach        1609.0   1609.0\n33   6621             Genève        1590.0   1593.0\n34    191          Dübendorf        1361.0   1362.0\n35   5938  Yverdon-les-Bains        1353.0   1354.0\n36   4001              Aarau        1237.0   1234.0\n37   4671        Kreuzlingen        1147.0   1150.0\n38   2703             Riehen        1089.0   1087.0\n39   4045          Wettingen        1064.0   1060.0\n40   6630             Meyrin         991.0    994.0\n41   2196           Fribourg         933.0    928.0\n42    243           Dietikon         927.0    934.0\n43   2762          Allschwil         889.0    889.0\n44   6643            Vernier         768.0    769.0\n45   5724               Nyon         687.0    680.0\n46     66            Opfikon         559.0    559.0\n47   6628              Lancy         484.0    477.0\n48   5591        Renens (VD)         295.0    295.0\n49   6608       Carouge (GE)         265.0    270.0",
      "text/html": "<div>\n<style scoped>\n    .dataframe tbody tr th:only-of-type {\n        vertical-align: middle;\n    }\n\n    .dataframe tbody tr th {\n        vertical-align: top;\n    }\n\n    .dataframe thead th {\n        text-align: right;\n    }\n</style>\n<table border=\"1\" class=\"dataframe\">\n  <thead>\n    <tr style=\"text-align: right;\">\n      <th></th>\n      <th>GEO_NR</th>\n      <th>GEO_NAME</th>\n      <th>sum(\"value\")</th>\n      <th>agr_pct</th>\n    </tr>\n  </thead>\n  <tbody>\n    <tr>\n      <th>0</th>\n      <td>5002</td>\n      <td>Bellinzona</td>\n      <td>16411.0</td>\n      <td>16420.0</td>\n    </tr>\n    <tr>\n      <th>1</th>\n      <td>261</td>\n      <td>Zürich</td>\n      <td>8794.0</td>\n      <td>8793.0</td>\n    </tr>\n    <tr>\n      <th>2</th>\n      <td>5192</td>\n      <td>Lugano</td>\n      <td>7598.0</td>\n      <td>7585.0</td>\n    </tr>\n    <tr>\n      <th>3</th>\n      <td>230</td>\n      <td>Winterthur</td>\n      <td>6811.0</td>\n      <td>6807.0</td>\n    </tr>\n    <tr>\n      <th>4</th>\n      <td>6421</td>\n      <td>La Chaux-de-Fonds</td>\n      <td>5573.0</td>\n      <td>5571.0</td>\n    </tr>\n    <tr>\n      <th>5</th>\n      <td>3901</td>\n      <td>Chur</td>\n      <td>5417.0</td>\n      <td>5424.0</td>\n    </tr>\n    <tr>\n      <th>6</th>\n      <td>351</td>\n      <td>Bern</td>\n      <td>5162.0</td>\n      <td>5162.0</td>\n    </tr>\n    <tr>\n      <th>7</th>\n      <td>355</td>\n      <td>Köniz</td>\n      <td>5105.0</td>\n      <td>5101.0</td>\n    </tr>\n    <tr>\n      <th>8</th>\n      <td>2939</td>\n      <td>Schaffhausen</td>\n      <td>4192.0</td>\n      <td>4185.0</td>\n    </tr>\n    <tr>\n      <th>9</th>\n      <td>5586</td>\n      <td>Lausanne</td>\n      <td>4137.0</td>\n      <td>4138.0</td>\n    </tr>\n    <tr>\n      <th>10</th>\n      <td>3203</td>\n      <td>St. Gallen</td>\n      <td>3931.0</td>\n      <td>3938.0</td>\n    </tr>\n    <tr>\n      <th>11</th>\n      <td>293</td>\n      <td>Wädenswil</td>\n      <td>3559.0</td>\n      <td>3564.0</td>\n    </tr>\n    <tr>\n      <th>12</th>\n      <td>6266</td>\n      <td>Sion</td>\n      <td>3476.0</td>\n      <td>3486.0</td>\n    </tr>\n    <tr>\n      <th>13</th>\n      <td>5886</td>\n      <td>Montreux</td>\n      <td>3346.0</td>\n      <td>3341.0</td>\n    </tr>\n    <tr>\n      <th>14</th>\n      <td>6136</td>\n      <td>Martigny</td>\n      <td>3254.0</td>\n      <td>3259.0</td>\n    </tr>\n    <tr>\n      <th>15</th>\n      <td>295</td>\n      <td>Horgen</td>\n      <td>3084.0</td>\n      <td>3083.0</td>\n    </tr>\n    <tr>\n      <th>16</th>\n      <td>6458</td>\n      <td>Neuchâtel</td>\n      <td>2998.0</td>\n      <td>3008.0</td>\n    </tr>\n    <tr>\n      <th>17</th>\n      <td>1061</td>\n      <td>Luzern</td>\n      <td>2908.0</td>\n      <td>2910.0</td>\n    </tr>\n    <tr>\n      <th>18</th>\n      <td>198</td>\n      <td>Uster</td>\n      <td>2850.0</td>\n      <td>2849.0</td>\n    </tr>\n    <tr>\n      <th>19</th>\n      <td>4566</td>\n      <td>Frauenfeld</td>\n      <td>2740.0</td>\n      <td>2735.0</td>\n    </tr>\n    <tr>\n      <th>20</th>\n      <td>1059</td>\n      <td>Kriens</td>\n      <td>2726.0</td>\n      <td>2730.0</td>\n    </tr>\n    <tr>\n      <th>21</th>\n      <td>1701</td>\n      <td>Baar</td>\n      <td>2478.0</td>\n      <td>2485.0</td>\n    </tr>\n    <tr>\n      <th>22</th>\n      <td>2701</td>\n      <td>Basel</td>\n      <td>2388.0</td>\n      <td>2385.0</td>\n    </tr>\n    <tr>\n      <th>23</th>\n      <td>2125</td>\n      <td>Bulle</td>\n      <td>2382.0</td>\n      <td>2386.0</td>\n    </tr>\n    <tr>\n      <th>24</th>\n      <td>3340</td>\n      <td>Rapperswil-Jona</td>\n      <td>2215.0</td>\n      <td>2225.0</td>\n    </tr>\n    <tr>\n      <th>25</th>\n      <td>1711</td>\n      <td>Zug</td>\n      <td>2170.0</td>\n      <td>2162.0</td>\n    </tr>\n    <tr>\n      <th>26</th>\n      <td>942</td>\n      <td>Thun</td>\n      <td>2156.0</td>\n      <td>2157.0</td>\n    </tr>\n    <tr>\n      <th>27</th>\n      <td>371</td>\n      <td>Biel/Bienne</td>\n      <td>2120.0</td>\n      <td>2119.0</td>\n    </tr>\n    <tr>\n      <th>28</th>\n      <td>3427</td>\n      <td>Wil (SG)</td>\n      <td>2084.0</td>\n      <td>2082.0</td>\n    </tr>\n    <tr>\n      <th>29</th>\n      <td>1024</td>\n      <td>Emmen</td>\n      <td>2037.0</td>\n      <td>2037.0</td>\n    </tr>\n    <tr>\n      <th>30</th>\n      <td>62</td>\n      <td>Kloten</td>\n      <td>1932.0</td>\n      <td>1927.0</td>\n    </tr>\n    <tr>\n      <th>31</th>\n      <td>121</td>\n      <td>Wetzikon (ZH)</td>\n      <td>1672.0</td>\n      <td>1681.0</td>\n    </tr>\n    <tr>\n      <th>32</th>\n      <td>53</td>\n      <td>Bülach</td>\n      <td>1609.0</td>\n      <td>1609.0</td>\n    </tr>\n    <tr>\n      <th>33</th>\n      <td>6621</td>\n      <td>Genève</td>\n      <td>1590.0</td>\n      <td>1593.0</td>\n    </tr>\n    <tr>\n      <th>34</th>\n      <td>191</td>\n      <td>Dübendorf</td>\n      <td>1361.0</td>\n      <td>1362.0</td>\n    </tr>\n    <tr>\n      <th>35</th>\n      <td>5938</td>\n      <td>Yverdon-les-Bains</td>\n      <td>1353.0</td>\n      <td>1354.0</td>\n    </tr>\n    <tr>\n      <th>36</th>\n      <td>4001</td>\n      <td>Aarau</td>\n      <td>1237.0</td>\n      <td>1234.0</td>\n    </tr>\n    <tr>\n      <th>37</th>\n      <td>4671</td>\n      <td>Kreuzlingen</td>\n      <td>1147.0</td>\n      <td>1150.0</td>\n    </tr>\n    <tr>\n      <th>38</th>\n      <td>2703</td>\n      <td>Riehen</td>\n      <td>1089.0</td>\n      <td>1087.0</td>\n    </tr>\n    <tr>\n      <th>39</th>\n      <td>4045</td>\n      <td>Wettingen</td>\n      <td>1064.0</td>\n      <td>1060.0</td>\n    </tr>\n    <tr>\n      <th>40</th>\n      <td>6630</td>\n      <td>Meyrin</td>\n      <td>991.0</td>\n      <td>994.0</td>\n    </tr>\n    <tr>\n      <th>41</th>\n      <td>2196</td>\n      <td>Fribourg</td>\n      <td>933.0</td>\n      <td>928.0</td>\n    </tr>\n    <tr>\n      <th>42</th>\n      <td>243</td>\n      <td>Dietikon</td>\n      <td>927.0</td>\n      <td>934.0</td>\n    </tr>\n    <tr>\n      <th>43</th>\n      <td>2762</td>\n      <td>Allschwil</td>\n      <td>889.0</td>\n      <td>889.0</td>\n    </tr>\n    <tr>\n      <th>44</th>\n      <td>6643</td>\n      <td>Vernier</td>\n      <td>768.0</td>\n      <td>769.0</td>\n    </tr>\n    <tr>\n      <th>45</th>\n      <td>5724</td>\n      <td>Nyon</td>\n      <td>687.0</td>\n      <td>680.0</td>\n    </tr>\n    <tr>\n      <th>46</th>\n      <td>66</td>\n      <td>Opfikon</td>\n      <td>559.0</td>\n      <td>559.0</td>\n    </tr>\n    <tr>\n      <th>47</th>\n      <td>6628</td>\n      <td>Lancy</td>\n      <td>484.0</td>\n      <td>477.0</td>\n    </tr>\n    <tr>\n      <th>48</th>\n      <td>5591</td>\n      <td>Renens (VD)</td>\n      <td>295.0</td>\n      <td>295.0</td>\n    </tr>\n    <tr>\n      <th>49</th>\n      <td>6608</td>\n      <td>Carouge (GE)</td>\n      <td>265.0</td>\n      <td>270.0</td>\n    </tr>\n  </tbody>\n</table>\n</div>"
     },
     "execution_count": 140,
     "metadata": {},
     "output_type": "execute_result"
    }
   ],
   "source": [
    "duckdb.query('''\n",
    "    select\n",
    "        geo_nr,\n",
    "        geo_name,\n",
    "        sum(value),\n",
    "        (select value from bodennutzung_df b2 where b.geo_nr = b2.geo_nr and variable = 'sur_t7913') agr_pct\n",
    "    from bodennutzung_df b\n",
    "    where 1=1\n",
    "    -- and geo_nr = '351'\n",
    "    -- and unit_value = 'Per'\n",
    "    and variable in ('sur_agr13', 'sur_bat13', 'sur_bois13', 'sur_unp13')\n",
    "    and geo_nr ~ '^\\d+$'\n",
    "    and class_hab >= 4\n",
    "    group by 1, 2\n",
    "    order by 3 desc nulls last\n",
    "''').to_df()"
   ],
   "metadata": {
    "collapsed": false
   }
  },
  {
   "cell_type": "code",
   "execution_count": 152,
   "outputs": [
    {
     "data": {
      "text/plain": "  GEO_NR     GEO_NAME  siedl_pct  landw_pct   wald_pct  unprod_pct   total\n0    261       Zürich  62.333675   9.507563  26.418742    1.751393  8793.0\n1   5192       Lugano  19.261701  10.309822  66.341463    4.258405  7585.0\n2    230   Winterthur  34.611429  23.754958  40.605259    1.087116  6807.0\n3    351         Bern  46.048043  18.248741  33.339791    2.363425  5162.0\n4   5586     Lausanne  45.915901  15.031416  38.811020    0.217496  4138.0\n5   3203   St. Gallen  42.051803  27.653631  28.186897    1.929914  3938.0\n6   1061       Luzern  48.728522  27.010309  22.027491    2.164948  2910.0\n7   2701        Basel  86.708595   3.773585   3.689727    5.953878  2385.0\n8    371  Biel/Bienne  47.475224   6.087777  45.398773    1.085418  2119.0\n9   6621       Genève  91.964846   1.381042   3.264281    3.201507  1593.0",
      "text/html": "<div>\n<style scoped>\n    .dataframe tbody tr th:only-of-type {\n        vertical-align: middle;\n    }\n\n    .dataframe tbody tr th {\n        vertical-align: top;\n    }\n\n    .dataframe thead th {\n        text-align: right;\n    }\n</style>\n<table border=\"1\" class=\"dataframe\">\n  <thead>\n    <tr style=\"text-align: right;\">\n      <th></th>\n      <th>GEO_NR</th>\n      <th>GEO_NAME</th>\n      <th>siedl_pct</th>\n      <th>landw_pct</th>\n      <th>wald_pct</th>\n      <th>unprod_pct</th>\n      <th>total</th>\n    </tr>\n  </thead>\n  <tbody>\n    <tr>\n      <th>0</th>\n      <td>261</td>\n      <td>Zürich</td>\n      <td>62.333675</td>\n      <td>9.507563</td>\n      <td>26.418742</td>\n      <td>1.751393</td>\n      <td>8793.0</td>\n    </tr>\n    <tr>\n      <th>1</th>\n      <td>5192</td>\n      <td>Lugano</td>\n      <td>19.261701</td>\n      <td>10.309822</td>\n      <td>66.341463</td>\n      <td>4.258405</td>\n      <td>7585.0</td>\n    </tr>\n    <tr>\n      <th>2</th>\n      <td>230</td>\n      <td>Winterthur</td>\n      <td>34.611429</td>\n      <td>23.754958</td>\n      <td>40.605259</td>\n      <td>1.087116</td>\n      <td>6807.0</td>\n    </tr>\n    <tr>\n      <th>3</th>\n      <td>351</td>\n      <td>Bern</td>\n      <td>46.048043</td>\n      <td>18.248741</td>\n      <td>33.339791</td>\n      <td>2.363425</td>\n      <td>5162.0</td>\n    </tr>\n    <tr>\n      <th>4</th>\n      <td>5586</td>\n      <td>Lausanne</td>\n      <td>45.915901</td>\n      <td>15.031416</td>\n      <td>38.811020</td>\n      <td>0.217496</td>\n      <td>4138.0</td>\n    </tr>\n    <tr>\n      <th>5</th>\n      <td>3203</td>\n      <td>St. Gallen</td>\n      <td>42.051803</td>\n      <td>27.653631</td>\n      <td>28.186897</td>\n      <td>1.929914</td>\n      <td>3938.0</td>\n    </tr>\n    <tr>\n      <th>6</th>\n      <td>1061</td>\n      <td>Luzern</td>\n      <td>48.728522</td>\n      <td>27.010309</td>\n      <td>22.027491</td>\n      <td>2.164948</td>\n      <td>2910.0</td>\n    </tr>\n    <tr>\n      <th>7</th>\n      <td>2701</td>\n      <td>Basel</td>\n      <td>86.708595</td>\n      <td>3.773585</td>\n      <td>3.689727</td>\n      <td>5.953878</td>\n      <td>2385.0</td>\n    </tr>\n    <tr>\n      <th>8</th>\n      <td>371</td>\n      <td>Biel/Bienne</td>\n      <td>47.475224</td>\n      <td>6.087777</td>\n      <td>45.398773</td>\n      <td>1.085418</td>\n      <td>2119.0</td>\n    </tr>\n    <tr>\n      <th>9</th>\n      <td>6621</td>\n      <td>Genève</td>\n      <td>91.964846</td>\n      <td>1.381042</td>\n      <td>3.264281</td>\n      <td>3.201507</td>\n      <td>1593.0</td>\n    </tr>\n  </tbody>\n</table>\n</div>"
     },
     "execution_count": 152,
     "metadata": {},
     "output_type": "execute_result"
    }
   ],
   "source": [
    "duckdb.query('''\n",
    "    select distinct\n",
    "        geo_nr,\n",
    "        geo_name,\n",
    "        100 * (select value from bodennutzung_df b2 where b.geo_nr = b2.geo_nr and variable = 'sur_bat13') /\n",
    "        (select value from bodennutzung_df b2 where b.geo_nr = b2.geo_nr and variable = 'sur_t7913') siedl_pct,\n",
    "        100 * (select value from bodennutzung_df b2 where b.geo_nr = b2.geo_nr and variable = 'sur_agr13') /\n",
    "        (select value from bodennutzung_df b2 where b.geo_nr = b2.geo_nr and variable = 'sur_t7913') landw_pct,\n",
    "        100 * (select value from bodennutzung_df b2 where b.geo_nr = b2.geo_nr and variable = 'sur_bois13') /\n",
    "        (select value from bodennutzung_df b2 where b.geo_nr = b2.geo_nr and variable = 'sur_t7913') wald_pct,\n",
    "        100 * (select value from bodennutzung_df b2 where b.geo_nr = b2.geo_nr and variable = 'sur_unp13') /\n",
    "        (select value from bodennutzung_df b2 where b.geo_nr = b2.geo_nr and variable = 'sur_t7913') unprod_pct,\n",
    "        (select value from bodennutzung_df b2 where b.geo_nr = b2.geo_nr and variable = 'sur_t7913') total\n",
    "    from bodennutzung_df b\n",
    "    where 1=1\n",
    "    and geo_nr ~ '^\\d+$'\n",
    "    and class_hab >= 5\n",
    "    order by (select value from bodennutzung_df b2 where b.geo_nr = b2.geo_nr and variable = 'sur_t7913') desc\n",
    "''').to_df()"
   ],
   "metadata": {
    "collapsed": false
   }
  },
  {
   "cell_type": "code",
   "execution_count": 37,
   "outputs": [
    {
     "data": {
      "text/html": "\n<div id=\"altair-viz-45a3d6bf409f4f0891c6d55c698f34be\"></div>\n<script type=\"text/javascript\">\n  var VEGA_DEBUG = (typeof VEGA_DEBUG == \"undefined\") ? {} : VEGA_DEBUG;\n  (function(spec, embedOpt){\n    let outputDiv = document.currentScript.previousElementSibling;\n    if (outputDiv.id !== \"altair-viz-45a3d6bf409f4f0891c6d55c698f34be\") {\n      outputDiv = document.getElementById(\"altair-viz-45a3d6bf409f4f0891c6d55c698f34be\");\n    }\n    const paths = {\n      \"vega\": \"https://cdn.jsdelivr.net/npm//vega@5?noext\",\n      \"vega-lib\": \"https://cdn.jsdelivr.net/npm//vega-lib?noext\",\n      \"vega-lite\": \"https://cdn.jsdelivr.net/npm//vega-lite@4.17.0?noext\",\n      \"vega-embed\": \"https://cdn.jsdelivr.net/npm//vega-embed@6?noext\",\n    };\n\n    function maybeLoadScript(lib, version) {\n      var key = `${lib.replace(\"-\", \"\")}_version`;\n      return (VEGA_DEBUG[key] == version) ?\n        Promise.resolve(paths[lib]) :\n        new Promise(function(resolve, reject) {\n          var s = document.createElement('script');\n          document.getElementsByTagName(\"head\")[0].appendChild(s);\n          s.async = true;\n          s.onload = () => {\n            VEGA_DEBUG[key] = version;\n            return resolve(paths[lib]);\n          };\n          s.onerror = () => reject(`Error loading script: ${paths[lib]}`);\n          s.src = paths[lib];\n        });\n    }\n\n    function showError(err) {\n      outputDiv.innerHTML = `<div class=\"error\" style=\"color:red;\">${err}</div>`;\n      throw err;\n    }\n\n    function displayChart(vegaEmbed) {\n      vegaEmbed(outputDiv, spec, embedOpt)\n        .catch(err => showError(`Javascript Error: ${err.message}<br>This usually means there's a typo in your chart specification. See the javascript console for the full traceback.`));\n    }\n\n    if(typeof define === \"function\" && define.amd) {\n      requirejs.config({paths});\n      require([\"vega-embed\"], displayChart, err => showError(`Error loading script: ${err.message}`));\n    } else {\n      maybeLoadScript(\"vega\", \"5\")\n        .then(() => maybeLoadScript(\"vega-lite\", \"4.17.0\"))\n        .then(() => maybeLoadScript(\"vega-embed\", \"6\"))\n        .catch(showError)\n        .then(() => displayChart(vegaEmbed));\n    }\n  })({\"config\": {\"view\": {\"continuousWidth\": 400, \"continuousHeight\": 300}}, \"data\": {\"name\": \"data-d809c659badc8600eebe9f74edb0a152\"}, \"mark\": \"bar\", \"encoding\": {\"color\": {\"field\": \"var_label\", \"legend\": {\"title\": \"Nutzung\"}, \"type\": \"nominal\"}, \"tooltip\": [{\"field\": \"VALUE\", \"title\": \"Fl\\u00e4che (ha)\", \"type\": \"quantitative\"}, {\"field\": \"anteil\", \"format\": \".2%\", \"title\": \"Anteil (%)\", \"type\": \"quantitative\"}], \"x\": {\"axis\": {\"format\": \".0%\"}, \"field\": \"VALUE\", \"stack\": \"normalize\", \"title\": \"Anteil\", \"type\": \"quantitative\"}, \"y\": {\"field\": \"GEO_NAME\", \"title\": \"Stadt\", \"type\": \"nominal\"}}, \"title\": \"Bodennutzung Schweizer St\\u00e4dte (50'000+ Einwohner)\", \"transform\": [{\"calculate\": \"datum.VALUE / datum.total_flaeche\", \"as\": \"anteil\"}], \"$schema\": \"https://vega.github.io/schema/vega-lite/v4.17.0.json\", \"datasets\": {\"data-d809c659badc8600eebe9f74edb0a152\": [{\"GEO_NR\": \"230\", \"GEO_NAME\": \"Winterthur\", \"CLASS_HAB\": \"6\", \"GEOM_PERIOD\": \"2021-04-18\", \"VARIABLE\": \"sur_bat13\", \"SOURCE\": \"AREA\", \"VALUE_PERIOD\": \"2013/2018\", \"UNIT_VALUE\": \"Num\", \"VALUE\": 2356.0, \"STATUS\": \"A\", \"var_label\": \"Siedlung\", \"total_flaeche\": 6807.0}, {\"GEO_NR\": \"230\", \"GEO_NAME\": \"Winterthur\", \"CLASS_HAB\": \"6\", \"GEOM_PERIOD\": \"2021-04-18\", \"VARIABLE\": \"sur_agr13\", \"SOURCE\": \"AREA\", \"VALUE_PERIOD\": \"2013/2018\", \"UNIT_VALUE\": \"Num\", \"VALUE\": 1617.0, \"STATUS\": \"A\", \"var_label\": \"Landwirtschaft\", \"total_flaeche\": 6807.0}, {\"GEO_NR\": \"230\", \"GEO_NAME\": \"Winterthur\", \"CLASS_HAB\": \"6\", \"GEOM_PERIOD\": \"2021-04-18\", \"VARIABLE\": \"sur_bois13\", \"SOURCE\": \"AREA\", \"VALUE_PERIOD\": \"2013/2018\", \"UNIT_VALUE\": \"Num\", \"VALUE\": 2764.0, \"STATUS\": \"A\", \"var_label\": \"Wald\", \"total_flaeche\": 6807.0}, {\"GEO_NR\": \"230\", \"GEO_NAME\": \"Winterthur\", \"CLASS_HAB\": \"6\", \"GEOM_PERIOD\": \"2021-04-18\", \"VARIABLE\": \"sur_unp13\", \"SOURCE\": \"AREA\", \"VALUE_PERIOD\": \"2013/2018\", \"UNIT_VALUE\": \"Num\", \"VALUE\": 74.0, \"STATUS\": \"A\", \"var_label\": \"Unproduktiv\", \"total_flaeche\": 6807.0}, {\"GEO_NR\": \"261\", \"GEO_NAME\": \"Z\\u00fcrich\", \"CLASS_HAB\": \"6\", \"GEOM_PERIOD\": \"2021-04-18\", \"VARIABLE\": \"sur_bat13\", \"SOURCE\": \"AREA\", \"VALUE_PERIOD\": \"2013/2018\", \"UNIT_VALUE\": \"Num\", \"VALUE\": 5481.0, \"STATUS\": \"A\", \"var_label\": \"Siedlung\", \"total_flaeche\": 8793.0}, {\"GEO_NR\": \"261\", \"GEO_NAME\": \"Z\\u00fcrich\", \"CLASS_HAB\": \"6\", \"GEOM_PERIOD\": \"2021-04-18\", \"VARIABLE\": \"sur_agr13\", \"SOURCE\": \"AREA\", \"VALUE_PERIOD\": \"2013/2018\", \"UNIT_VALUE\": \"Num\", \"VALUE\": 836.0, \"STATUS\": \"A\", \"var_label\": \"Landwirtschaft\", \"total_flaeche\": 8793.0}, {\"GEO_NR\": \"261\", \"GEO_NAME\": \"Z\\u00fcrich\", \"CLASS_HAB\": \"6\", \"GEOM_PERIOD\": \"2021-04-18\", \"VARIABLE\": \"sur_bois13\", \"SOURCE\": \"AREA\", \"VALUE_PERIOD\": \"2013/2018\", \"UNIT_VALUE\": \"Num\", \"VALUE\": 2323.0, \"STATUS\": \"A\", \"var_label\": \"Wald\", \"total_flaeche\": 8793.0}, {\"GEO_NR\": \"261\", \"GEO_NAME\": \"Z\\u00fcrich\", \"CLASS_HAB\": \"6\", \"GEOM_PERIOD\": \"2021-04-18\", \"VARIABLE\": \"sur_unp13\", \"SOURCE\": \"AREA\", \"VALUE_PERIOD\": \"2013/2018\", \"UNIT_VALUE\": \"Num\", \"VALUE\": 154.0, \"STATUS\": \"A\", \"var_label\": \"Unproduktiv\", \"total_flaeche\": 8793.0}, {\"GEO_NR\": \"351\", \"GEO_NAME\": \"Bern\", \"CLASS_HAB\": \"6\", \"GEOM_PERIOD\": \"2021-04-18\", \"VARIABLE\": \"sur_bat13\", \"SOURCE\": \"AREA\", \"VALUE_PERIOD\": \"2013/2018\", \"UNIT_VALUE\": \"Num\", \"VALUE\": 2377.0, \"STATUS\": \"A\", \"var_label\": \"Siedlung\", \"total_flaeche\": 5162.0}, {\"GEO_NR\": \"351\", \"GEO_NAME\": \"Bern\", \"CLASS_HAB\": \"6\", \"GEOM_PERIOD\": \"2021-04-18\", \"VARIABLE\": \"sur_agr13\", \"SOURCE\": \"AREA\", \"VALUE_PERIOD\": \"2013/2018\", \"UNIT_VALUE\": \"Num\", \"VALUE\": 942.0, \"STATUS\": \"A\", \"var_label\": \"Landwirtschaft\", \"total_flaeche\": 5162.0}, {\"GEO_NR\": \"351\", \"GEO_NAME\": \"Bern\", \"CLASS_HAB\": \"6\", \"GEOM_PERIOD\": \"2021-04-18\", \"VARIABLE\": \"sur_bois13\", \"SOURCE\": \"AREA\", \"VALUE_PERIOD\": \"2013/2018\", \"UNIT_VALUE\": \"Num\", \"VALUE\": 1721.0, \"STATUS\": \"A\", \"var_label\": \"Wald\", \"total_flaeche\": 5162.0}, {\"GEO_NR\": \"351\", \"GEO_NAME\": \"Bern\", \"CLASS_HAB\": \"6\", \"GEOM_PERIOD\": \"2021-04-18\", \"VARIABLE\": \"sur_unp13\", \"SOURCE\": \"AREA\", \"VALUE_PERIOD\": \"2013/2018\", \"UNIT_VALUE\": \"Num\", \"VALUE\": 122.0, \"STATUS\": \"A\", \"var_label\": \"Unproduktiv\", \"total_flaeche\": 5162.0}, {\"GEO_NR\": \"371\", \"GEO_NAME\": \"Biel/Bienne\", \"CLASS_HAB\": \"5\", \"GEOM_PERIOD\": \"2021-04-18\", \"VARIABLE\": \"sur_bat13\", \"SOURCE\": \"AREA\", \"VALUE_PERIOD\": \"2013/2018\", \"UNIT_VALUE\": \"Num\", \"VALUE\": 1006.0, \"STATUS\": \"A\", \"var_label\": \"Siedlung\", \"total_flaeche\": 2119.0}, {\"GEO_NR\": \"371\", \"GEO_NAME\": \"Biel/Bienne\", \"CLASS_HAB\": \"5\", \"GEOM_PERIOD\": \"2021-04-18\", \"VARIABLE\": \"sur_agr13\", \"SOURCE\": \"AREA\", \"VALUE_PERIOD\": \"2013/2018\", \"UNIT_VALUE\": \"Num\", \"VALUE\": 129.0, \"STATUS\": \"A\", \"var_label\": \"Landwirtschaft\", \"total_flaeche\": 2119.0}, {\"GEO_NR\": \"371\", \"GEO_NAME\": \"Biel/Bienne\", \"CLASS_HAB\": \"5\", \"GEOM_PERIOD\": \"2021-04-18\", \"VARIABLE\": \"sur_bois13\", \"SOURCE\": \"AREA\", \"VALUE_PERIOD\": \"2013/2018\", \"UNIT_VALUE\": \"Num\", \"VALUE\": 962.0, \"STATUS\": \"A\", \"var_label\": \"Wald\", \"total_flaeche\": 2119.0}, {\"GEO_NR\": \"371\", \"GEO_NAME\": \"Biel/Bienne\", \"CLASS_HAB\": \"5\", \"GEOM_PERIOD\": \"2021-04-18\", \"VARIABLE\": \"sur_unp13\", \"SOURCE\": \"AREA\", \"VALUE_PERIOD\": \"2013/2018\", \"UNIT_VALUE\": \"Num\", \"VALUE\": 23.0, \"STATUS\": \"A\", \"var_label\": \"Unproduktiv\", \"total_flaeche\": 2119.0}, {\"GEO_NR\": \"1061\", \"GEO_NAME\": \"Luzern\", \"CLASS_HAB\": \"5\", \"GEOM_PERIOD\": \"2021-04-18\", \"VARIABLE\": \"sur_bat13\", \"SOURCE\": \"AREA\", \"VALUE_PERIOD\": \"2013/2018\", \"UNIT_VALUE\": \"Num\", \"VALUE\": 1418.0, \"STATUS\": \"A\", \"var_label\": \"Siedlung\", \"total_flaeche\": 2910.0}, {\"GEO_NR\": \"1061\", \"GEO_NAME\": \"Luzern\", \"CLASS_HAB\": \"5\", \"GEOM_PERIOD\": \"2021-04-18\", \"VARIABLE\": \"sur_agr13\", \"SOURCE\": \"AREA\", \"VALUE_PERIOD\": \"2013/2018\", \"UNIT_VALUE\": \"Num\", \"VALUE\": 786.0, \"STATUS\": \"A\", \"var_label\": \"Landwirtschaft\", \"total_flaeche\": 2910.0}, {\"GEO_NR\": \"1061\", \"GEO_NAME\": \"Luzern\", \"CLASS_HAB\": \"5\", \"GEOM_PERIOD\": \"2021-04-18\", \"VARIABLE\": \"sur_bois13\", \"SOURCE\": \"AREA\", \"VALUE_PERIOD\": \"2013/2018\", \"UNIT_VALUE\": \"Num\", \"VALUE\": 641.0, \"STATUS\": \"A\", \"var_label\": \"Wald\", \"total_flaeche\": 2910.0}, {\"GEO_NR\": \"1061\", \"GEO_NAME\": \"Luzern\", \"CLASS_HAB\": \"5\", \"GEOM_PERIOD\": \"2021-04-18\", \"VARIABLE\": \"sur_unp13\", \"SOURCE\": \"AREA\", \"VALUE_PERIOD\": \"2013/2018\", \"UNIT_VALUE\": \"Num\", \"VALUE\": 63.0, \"STATUS\": \"A\", \"var_label\": \"Unproduktiv\", \"total_flaeche\": 2910.0}, {\"GEO_NR\": \"2701\", \"GEO_NAME\": \"Basel\", \"CLASS_HAB\": \"6\", \"GEOM_PERIOD\": \"2021-04-18\", \"VARIABLE\": \"sur_bat13\", \"SOURCE\": \"AREA\", \"VALUE_PERIOD\": \"2013/2018\", \"UNIT_VALUE\": \"Num\", \"VALUE\": 2068.0, \"STATUS\": \"A\", \"var_label\": \"Siedlung\", \"total_flaeche\": 2385.0}, {\"GEO_NR\": \"2701\", \"GEO_NAME\": \"Basel\", \"CLASS_HAB\": \"6\", \"GEOM_PERIOD\": \"2021-04-18\", \"VARIABLE\": \"sur_agr13\", \"SOURCE\": \"AREA\", \"VALUE_PERIOD\": \"2013/2018\", \"UNIT_VALUE\": \"Num\", \"VALUE\": 90.0, \"STATUS\": \"A\", \"var_label\": \"Landwirtschaft\", \"total_flaeche\": 2385.0}, {\"GEO_NR\": \"2701\", \"GEO_NAME\": \"Basel\", \"CLASS_HAB\": \"6\", \"GEOM_PERIOD\": \"2021-04-18\", \"VARIABLE\": \"sur_bois13\", \"SOURCE\": \"AREA\", \"VALUE_PERIOD\": \"2013/2018\", \"UNIT_VALUE\": \"Num\", \"VALUE\": 88.0, \"STATUS\": \"A\", \"var_label\": \"Wald\", \"total_flaeche\": 2385.0}, {\"GEO_NR\": \"2701\", \"GEO_NAME\": \"Basel\", \"CLASS_HAB\": \"6\", \"GEOM_PERIOD\": \"2021-04-18\", \"VARIABLE\": \"sur_unp13\", \"SOURCE\": \"AREA\", \"VALUE_PERIOD\": \"2013/2018\", \"UNIT_VALUE\": \"Num\", \"VALUE\": 142.0, \"STATUS\": \"A\", \"var_label\": \"Unproduktiv\", \"total_flaeche\": 2385.0}, {\"GEO_NR\": \"3203\", \"GEO_NAME\": \"St. Gallen\", \"CLASS_HAB\": \"5\", \"GEOM_PERIOD\": \"2021-04-18\", \"VARIABLE\": \"sur_bat13\", \"SOURCE\": \"AREA\", \"VALUE_PERIOD\": \"2013/2018\", \"UNIT_VALUE\": \"Num\", \"VALUE\": 1656.0, \"STATUS\": \"A\", \"var_label\": \"Siedlung\", \"total_flaeche\": 3938.0}, {\"GEO_NR\": \"3203\", \"GEO_NAME\": \"St. Gallen\", \"CLASS_HAB\": \"5\", \"GEOM_PERIOD\": \"2021-04-18\", \"VARIABLE\": \"sur_agr13\", \"SOURCE\": \"AREA\", \"VALUE_PERIOD\": \"2013/2018\", \"UNIT_VALUE\": \"Num\", \"VALUE\": 1089.0, \"STATUS\": \"A\", \"var_label\": \"Landwirtschaft\", \"total_flaeche\": 3938.0}, {\"GEO_NR\": \"3203\", \"GEO_NAME\": \"St. Gallen\", \"CLASS_HAB\": \"5\", \"GEOM_PERIOD\": \"2021-04-18\", \"VARIABLE\": \"sur_bois13\", \"SOURCE\": \"AREA\", \"VALUE_PERIOD\": \"2013/2018\", \"UNIT_VALUE\": \"Num\", \"VALUE\": 1110.0, \"STATUS\": \"A\", \"var_label\": \"Wald\", \"total_flaeche\": 3938.0}, {\"GEO_NR\": \"3203\", \"GEO_NAME\": \"St. Gallen\", \"CLASS_HAB\": \"5\", \"GEOM_PERIOD\": \"2021-04-18\", \"VARIABLE\": \"sur_unp13\", \"SOURCE\": \"AREA\", \"VALUE_PERIOD\": \"2013/2018\", \"UNIT_VALUE\": \"Num\", \"VALUE\": 76.0, \"STATUS\": \"A\", \"var_label\": \"Unproduktiv\", \"total_flaeche\": 3938.0}, {\"GEO_NR\": \"5192\", \"GEO_NAME\": \"Lugano\", \"CLASS_HAB\": \"5\", \"GEOM_PERIOD\": \"2021-04-18\", \"VARIABLE\": \"sur_bat13\", \"SOURCE\": \"AREA\", \"VALUE_PERIOD\": \"2013/2018\", \"UNIT_VALUE\": \"Num\", \"VALUE\": 1461.0, \"STATUS\": \"A\", \"var_label\": \"Siedlung\", \"total_flaeche\": 7585.0}, {\"GEO_NR\": \"5192\", \"GEO_NAME\": \"Lugano\", \"CLASS_HAB\": \"5\", \"GEOM_PERIOD\": \"2021-04-18\", \"VARIABLE\": \"sur_agr13\", \"SOURCE\": \"AREA\", \"VALUE_PERIOD\": \"2013/2018\", \"UNIT_VALUE\": \"Num\", \"VALUE\": 782.0, \"STATUS\": \"A\", \"var_label\": \"Landwirtschaft\", \"total_flaeche\": 7585.0}, {\"GEO_NR\": \"5192\", \"GEO_NAME\": \"Lugano\", \"CLASS_HAB\": \"5\", \"GEOM_PERIOD\": \"2021-04-18\", \"VARIABLE\": \"sur_bois13\", \"SOURCE\": \"AREA\", \"VALUE_PERIOD\": \"2013/2018\", \"UNIT_VALUE\": \"Num\", \"VALUE\": 5032.0, \"STATUS\": \"A\", \"var_label\": \"Wald\", \"total_flaeche\": 7585.0}, {\"GEO_NR\": \"5192\", \"GEO_NAME\": \"Lugano\", \"CLASS_HAB\": \"5\", \"GEOM_PERIOD\": \"2021-04-18\", \"VARIABLE\": \"sur_unp13\", \"SOURCE\": \"AREA\", \"VALUE_PERIOD\": \"2013/2018\", \"UNIT_VALUE\": \"Num\", \"VALUE\": 323.0, \"STATUS\": \"A\", \"var_label\": \"Unproduktiv\", \"total_flaeche\": 7585.0}, {\"GEO_NR\": \"5586\", \"GEO_NAME\": \"Lausanne\", \"CLASS_HAB\": \"6\", \"GEOM_PERIOD\": \"2021-04-18\", \"VARIABLE\": \"sur_bat13\", \"SOURCE\": \"AREA\", \"VALUE_PERIOD\": \"2013/2018\", \"UNIT_VALUE\": \"Num\", \"VALUE\": 1900.0, \"STATUS\": \"A\", \"var_label\": \"Siedlung\", \"total_flaeche\": 4138.0}, {\"GEO_NR\": \"5586\", \"GEO_NAME\": \"Lausanne\", \"CLASS_HAB\": \"6\", \"GEOM_PERIOD\": \"2021-04-18\", \"VARIABLE\": \"sur_agr13\", \"SOURCE\": \"AREA\", \"VALUE_PERIOD\": \"2013/2018\", \"UNIT_VALUE\": \"Num\", \"VALUE\": 622.0, \"STATUS\": \"A\", \"var_label\": \"Landwirtschaft\", \"total_flaeche\": 4138.0}, {\"GEO_NR\": \"5586\", \"GEO_NAME\": \"Lausanne\", \"CLASS_HAB\": \"6\", \"GEOM_PERIOD\": \"2021-04-18\", \"VARIABLE\": \"sur_bois13\", \"SOURCE\": \"AREA\", \"VALUE_PERIOD\": \"2013/2018\", \"UNIT_VALUE\": \"Num\", \"VALUE\": 1606.0, \"STATUS\": \"A\", \"var_label\": \"Wald\", \"total_flaeche\": 4138.0}, {\"GEO_NR\": \"5586\", \"GEO_NAME\": \"Lausanne\", \"CLASS_HAB\": \"6\", \"GEOM_PERIOD\": \"2021-04-18\", \"VARIABLE\": \"sur_unp13\", \"SOURCE\": \"AREA\", \"VALUE_PERIOD\": \"2013/2018\", \"UNIT_VALUE\": \"Num\", \"VALUE\": 9.0, \"STATUS\": \"A\", \"var_label\": \"Unproduktiv\", \"total_flaeche\": 4138.0}, {\"GEO_NR\": \"6621\", \"GEO_NAME\": \"Gen\\u00e8ve\", \"CLASS_HAB\": \"6\", \"GEOM_PERIOD\": \"2021-04-18\", \"VARIABLE\": \"sur_bat13\", \"SOURCE\": \"AREA\", \"VALUE_PERIOD\": \"2013/2018\", \"UNIT_VALUE\": \"Num\", \"VALUE\": 1465.0, \"STATUS\": \"A\", \"var_label\": \"Siedlung\", \"total_flaeche\": 1593.0}, {\"GEO_NR\": \"6621\", \"GEO_NAME\": \"Gen\\u00e8ve\", \"CLASS_HAB\": \"6\", \"GEOM_PERIOD\": \"2021-04-18\", \"VARIABLE\": \"sur_agr13\", \"SOURCE\": \"AREA\", \"VALUE_PERIOD\": \"2013/2018\", \"UNIT_VALUE\": \"Num\", \"VALUE\": 22.0, \"STATUS\": \"A\", \"var_label\": \"Landwirtschaft\", \"total_flaeche\": 1593.0}, {\"GEO_NR\": \"6621\", \"GEO_NAME\": \"Gen\\u00e8ve\", \"CLASS_HAB\": \"6\", \"GEOM_PERIOD\": \"2021-04-18\", \"VARIABLE\": \"sur_bois13\", \"SOURCE\": \"AREA\", \"VALUE_PERIOD\": \"2013/2018\", \"UNIT_VALUE\": \"Num\", \"VALUE\": 52.0, \"STATUS\": \"A\", \"var_label\": \"Wald\", \"total_flaeche\": 1593.0}, {\"GEO_NR\": \"6621\", \"GEO_NAME\": \"Gen\\u00e8ve\", \"CLASS_HAB\": \"6\", \"GEOM_PERIOD\": \"2021-04-18\", \"VARIABLE\": \"sur_unp13\", \"SOURCE\": \"AREA\", \"VALUE_PERIOD\": \"2013/2018\", \"UNIT_VALUE\": \"Num\", \"VALUE\": 51.0, \"STATUS\": \"A\", \"var_label\": \"Unproduktiv\", \"total_flaeche\": 1593.0}]}}, {\"mode\": \"vega-lite\"});\n</script>",
      "text/plain": "alt.Chart(...)"
     },
     "execution_count": 37,
     "metadata": {},
     "output_type": "execute_result"
    }
   ],
   "source": [
    "source = duckdb.query('''\n",
    "    select b.*,\n",
    "        case variable\n",
    "        when 'sur_bat13' then 'Siedlung'\n",
    "        when 'sur_agr13' then 'Landwirtschaft'\n",
    "        when 'sur_bois13' then 'Wald'\n",
    "        when 'sur_unp13' then 'Unproduktiv'\n",
    "        end var_label,\n",
    "        (select value from bodennutzung_df b2 where b.geo_nr = b2.geo_nr and variable = 'sur_t7913') total_flaeche\n",
    "    from bodennutzung_df b\n",
    "    where 1=1\n",
    "    and geo_nr ~ '^\\d+$'\n",
    "    and class_hab >= 5\n",
    "    and variable in ('sur_bat13', 'sur_agr13', 'sur_bois13', 'sur_unp13')\n",
    "    order by geo_nr::numeric\n",
    "''').to_df()\n",
    "\n",
    "alt.Chart(source).mark_bar().encode(\n",
    "    x=alt.X('VALUE', stack=\"normalize\", title='Anteil', axis=alt.Axis(format='.0%')),\n",
    "    y=alt.Y('GEO_NAME', title='Stadt'),\n",
    "    color=alt.Color('var_label', legend=alt.Legend(title='Nutzung')),\n",
    "    tooltip=[\n",
    "        alt.Tooltip('VALUE:Q', title='Fläche (ha)'),\n",
    "        alt.Tooltip('anteil:Q', title='Anteil (%)', format='.2%'),\n",
    "    ],\n",
    ").transform_calculate(\n",
    "    anteil='datum.VALUE / datum.total_flaeche'\n",
    ").properties(\n",
    "    title='Bodennutzung Schweizer Städte (50\\'000+ Einwohner)'\n",
    ")"
   ],
   "metadata": {
    "collapsed": false
   }
  }
 ],
 "metadata": {
  "kernelspec": {
   "display_name": "Python 3",
   "language": "python",
   "name": "python3"
  },
  "language_info": {
   "codemirror_mode": {
    "name": "ipython",
    "version": 2
   },
   "file_extension": ".py",
   "mimetype": "text/x-python",
   "name": "python",
   "nbconvert_exporter": "python",
   "pygments_lexer": "ipython2",
   "version": "2.7.6"
  }
 },
 "nbformat": 4,
 "nbformat_minor": 0
}
