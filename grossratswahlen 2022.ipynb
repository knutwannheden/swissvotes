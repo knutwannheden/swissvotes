{
 "cells": [
  {
   "cell_type": "code",
   "execution_count": 2,
   "metadata": {
    "collapsed": true
   },
   "outputs": [],
   "source": [
    "import time\n",
    "from io import StringIO\n",
    "\n",
    "import pandas as pd\n",
    "import requests\n",
    "import duckdb"
   ]
  },
  {
   "cell_type": "code",
   "execution_count": 5,
   "outputs": [],
   "source": [
    "# geodaten via https://opendata.swiss/de/dataset/geodaten-zu-den-eidgenoessischen-abstimmungsvorlagen\n",
    "topojson = requests.get('https://dam-api.bfs.admin.ch/hub/api/dam/assets/22344268/master').json()\n",
    "# nur gemeinden im kanton bern behalten\n",
    "topojson['objects']['K4voge_20220501_gf']['geometries'] = [g for g in topojson['objects']['K4voge_20220501_gf']['geometries'] if g['properties']['kantName'] == 'Bern']\n",
    "be_gemeinde_nummern = dict([(g['properties']['vogeId'], g['properties']['vogeName']) for g in topojson['objects']['K4voge_20220501_gf']['geometries']])\n",
    "\n",
    "try:\n",
    "    result_df = pd.read_csv('gemeinde_resultate_listen.csv', encoding='utf-8')\n",
    "except FileNotFoundError:\n",
    "    result_df = None\n",
    "    for g in be_gemeinde_nummern.keys():\n",
    "        try:\n",
    "            resp = requests.get(f'https://www.bewas.sites.be.ch/2022/2022-03-27/WAHL_GROSSRAT/reportCsvGemeindeResultat-{g}.csv')\n",
    "        except requests.ConnectionError as e:\n",
    "            print('failed to download', g, be_gemeinde_nummern[g], f'https://www.bewas.sites.be.ch/2022/2022-03-27/WAHL_GROSSRAT/reportCsvGemeindeResultat-{g}.csv', e)\n",
    "            continue\n",
    "        time.sleep(0.3)\n",
    "        data = resp.content.decode('windows-1252')\n",
    "        lines = data.splitlines()\n",
    "        total_idx = [i for i in range(len(lines)) if lines[i].startswith('Total;')][0]\n",
    "        stimmberechtigte = int(lines[total_idx+1].split(';')[1])\n",
    "        wahlzettel = int(lines[total_idx+2].split(';')[1])\n",
    "        lines = lines[5:total_idx]\n",
    "        lines.insert(0, 'Listennummer;Partei;Stimmen;Stimmen-Prozent')\n",
    "        df = pd.read_csv(StringIO('\\n'.join(lines)), sep=';', converters={'Stimmen': lambda s: int(s.replace('\\'', '')), 'Stimmen-Prozent': lambda s: float(s.replace('%', ''))})\n",
    "        df['Gemeinde-Nummer'] = g\n",
    "        df['Gemeinde-Name'] = be_gemeinde_nummern[g]\n",
    "        df['Stimmberechtigte'] = stimmberechtigte\n",
    "        df['Wahlzettel'] = wahlzettel\n",
    "        df['Stimmbeteiligung'] = wahlzettel / stimmberechtigte\n",
    "        result_df = df if result_df is None else pd.concat([result_df, df])\n",
    "    result_df.to_csv('gemeinde_resultate_listen.csv', index=False, encoding='utf-8')"
   ],
   "metadata": {
    "collapsed": false
   }
  },
  {
   "cell_type": "code",
   "execution_count": 8,
   "outputs": [
    {
     "data": {
      "text/plain": "    Gemeinde-Nummer Gemeinde-Name  Stimmbeteiligung  Stimmen  Stimmen-Prozent\n0               715    Rebévelier          0.515152     21.0            10.82\n1               716     Petit-Val          0.475460    187.0            10.21\n2               866     Gerzensee          0.473456    853.0            10.13\n3               307      Meikirch          0.456291   2800.0            14.44\n4               352      Bolligen          0.435199   6717.0            14.90\n..              ...           ...               ...      ...              ...\n95              442   Romont (BE)          0.204969     42.0            11.05\n96              441    Renan (BE)          0.196477    253.0            14.77\n97              435   La Ferrière          0.182464    200.0            22.83\n98              449         Sauge          0.172638    249.0            20.56\n99              708      Schelten          0.111111     30.0            31.25\n\n[100 rows x 5 columns]",
      "text/html": "<div>\n<style scoped>\n    .dataframe tbody tr th:only-of-type {\n        vertical-align: middle;\n    }\n\n    .dataframe tbody tr th {\n        vertical-align: top;\n    }\n\n    .dataframe thead th {\n        text-align: right;\n    }\n</style>\n<table border=\"1\" class=\"dataframe\">\n  <thead>\n    <tr style=\"text-align: right;\">\n      <th></th>\n      <th>Gemeinde-Nummer</th>\n      <th>Gemeinde-Name</th>\n      <th>Stimmbeteiligung</th>\n      <th>Stimmen</th>\n      <th>Stimmen-Prozent</th>\n    </tr>\n  </thead>\n  <tbody>\n    <tr>\n      <th>0</th>\n      <td>715</td>\n      <td>Rebévelier</td>\n      <td>0.515152</td>\n      <td>21.0</td>\n      <td>10.82</td>\n    </tr>\n    <tr>\n      <th>1</th>\n      <td>716</td>\n      <td>Petit-Val</td>\n      <td>0.475460</td>\n      <td>187.0</td>\n      <td>10.21</td>\n    </tr>\n    <tr>\n      <th>2</th>\n      <td>866</td>\n      <td>Gerzensee</td>\n      <td>0.473456</td>\n      <td>853.0</td>\n      <td>10.13</td>\n    </tr>\n    <tr>\n      <th>3</th>\n      <td>307</td>\n      <td>Meikirch</td>\n      <td>0.456291</td>\n      <td>2800.0</td>\n      <td>14.44</td>\n    </tr>\n    <tr>\n      <th>4</th>\n      <td>352</td>\n      <td>Bolligen</td>\n      <td>0.435199</td>\n      <td>6717.0</td>\n      <td>14.90</td>\n    </tr>\n    <tr>\n      <th>...</th>\n      <td>...</td>\n      <td>...</td>\n      <td>...</td>\n      <td>...</td>\n      <td>...</td>\n    </tr>\n    <tr>\n      <th>95</th>\n      <td>442</td>\n      <td>Romont (BE)</td>\n      <td>0.204969</td>\n      <td>42.0</td>\n      <td>11.05</td>\n    </tr>\n    <tr>\n      <th>96</th>\n      <td>441</td>\n      <td>Renan (BE)</td>\n      <td>0.196477</td>\n      <td>253.0</td>\n      <td>14.77</td>\n    </tr>\n    <tr>\n      <th>97</th>\n      <td>435</td>\n      <td>La Ferrière</td>\n      <td>0.182464</td>\n      <td>200.0</td>\n      <td>22.83</td>\n    </tr>\n    <tr>\n      <th>98</th>\n      <td>449</td>\n      <td>Sauge</td>\n      <td>0.172638</td>\n      <td>249.0</td>\n      <td>20.56</td>\n    </tr>\n    <tr>\n      <th>99</th>\n      <td>708</td>\n      <td>Schelten</td>\n      <td>0.111111</td>\n      <td>30.0</td>\n      <td>31.25</td>\n    </tr>\n  </tbody>\n</table>\n<p>100 rows × 5 columns</p>\n</div>"
     },
     "execution_count": 8,
     "metadata": {},
     "output_type": "execute_result"
    }
   ],
   "source": [
    "duckdb.query('''\n",
    "    select \"Gemeinde-Nummer\", \"Gemeinde-Name\", \"Stimmbeteiligung\", sum(Stimmen) \"Stimmen\", round(sum(\"Stimmen-Prozent\"), 2) \"Stimmen-Prozent\"\n",
    "    from result_df\n",
    "    where \"Partei\" in ('VERTS', 'JV', 'PVA', 'JGGL / JVVC', 'JGGG / JVVS', 'Grüne', 'JGOA', 'GRÜNE', 'JG', 'Grüne', 'GFL', 'JA!', 'GB')\n",
    "    group by 1, 2, 3\n",
    "    having sum(\"Stimmen-Prozent\") >= 10\n",
    "    order by 3 desc\n",
    "    ''').to_df()"
   ],
   "metadata": {
    "collapsed": false
   }
  },
  {
   "cell_type": "code",
   "execution_count": 13,
   "outputs": [],
   "source": [
    "duckdb.query('''\n",
    "    select \"Gemeinde-Nummer\", \"Gemeinde-Name\", round (100 * \"Stimmbeteiligung\", 2) \"Stimmbeteiligung\", sum(\"Stimmen\") \"Stimmen\",\n",
    "        sum(case when \"Partei\" in ('VERTS', 'JV', 'PVA', 'JGGL / JVVC', 'JGGG / JVVS', 'Grüne', 'JGOA', 'GRÜNE', 'JG', 'Grüne', 'GFL', 'JA!', 'GB') then \"Stimmen\" else 0 end) \"Grüne-Stimmen\",\n",
    "        round(sum(case when \"Partei\" in ('VERTS', 'JV', 'PVA', 'JGGL / JVVC', 'JGGG / JVVS', 'Grüne', 'JGOA', 'GRÜNE', 'JG', 'Grüne', 'GFL', 'JA!', 'GB') then \"Stimmen-Prozent\" else 0 end), 2) \"Grüne-Stimmen-Prozent\"\n",
    "    from result_df\n",
    "    group by 1, 2, 3\n",
    "    having sum(\"Stimmen\") > 15000 or sum(case when \"Partei\" in ('VERTS', 'JV', 'PVA', 'JGGL / JVVC', 'JGGG / JVVS', 'Grüne', 'JGOA', 'GRÜNE', 'JG', 'Grüne', 'GFL', 'JA!', 'GB') then \"Stimmen-Prozent\" else 0 end) > 12\n",
    "    order by 4 desc\n",
    "    ''').to_df().to_csv('grossratswahlen 2022 gruene gemeinden.csv', encoding='utf-8', index=False)"
   ],
   "metadata": {
    "collapsed": false
   }
  },
  {
   "cell_type": "code",
   "execution_count": 91,
   "outputs": [
    {
     "data": {
      "text/plain": "    Listennummer                   Partei  Stimmen  Stimmen-Prozent  \\\n0              1    Die Mitte / Le Centre     7348         9.025253   \n1              2                      SVP    13732        16.866463   \n2              3                      UDC      325         0.399184   \n3              4                EVP / PEV     4527         5.560332   \n4              5            *jevp / *jpev     1459         1.792031   \n5              6                EDU / UDF     1578         1.938194   \n6              7                SP Frauen    10077        12.377174   \n7              8                SP Männer     5890         7.234450   \n8              9                      PSR      383         0.470424   \n9             10                JUSO / JS      975         1.197553   \n10            11  GLPSeeland / PVLSeeland     6069         7.454309   \n11            12      GLPBiel / PVLBienne     1498         1.839933   \n12            13               JGLP / JVL     1426         1.751499   \n13            14                FDP Biel+     1573         1.932053   \n14            15               FDPSeeland    16708        20.521765   \n15            16                      PRR      397         0.487619   \n16            17              JGGL / JVVC     3867         4.749681   \n17            18              JGGG / JVVS     1516         1.862042   \n18            19                      ABS     1301         1.597966   \n19            20                      DBS       21         0.025793   \n20            21                       SD      399         0.490076   \n21            22                PdA / POP      347         0.426206   \n\n    Gemeinde-Nummer Gemeinde-Name  \n0               306          Lyss  \n1               306          Lyss  \n2               306          Lyss  \n3               306          Lyss  \n4               306          Lyss  \n5               306          Lyss  \n6               306          Lyss  \n7               306          Lyss  \n8               306          Lyss  \n9               306          Lyss  \n10              306          Lyss  \n11              306          Lyss  \n12              306          Lyss  \n13              306          Lyss  \n14              306          Lyss  \n15              306          Lyss  \n16              306          Lyss  \n17              306          Lyss  \n18              306          Lyss  \n19              306          Lyss  \n20              306          Lyss  \n21              306          Lyss  ",
      "text/html": "<div>\n<style scoped>\n    .dataframe tbody tr th:only-of-type {\n        vertical-align: middle;\n    }\n\n    .dataframe tbody tr th {\n        vertical-align: top;\n    }\n\n    .dataframe thead th {\n        text-align: right;\n    }\n</style>\n<table border=\"1\" class=\"dataframe\">\n  <thead>\n    <tr style=\"text-align: right;\">\n      <th></th>\n      <th>Listennummer</th>\n      <th>Partei</th>\n      <th>Stimmen</th>\n      <th>Stimmen-Prozent</th>\n      <th>Gemeinde-Nummer</th>\n      <th>Gemeinde-Name</th>\n    </tr>\n  </thead>\n  <tbody>\n    <tr>\n      <th>0</th>\n      <td>1</td>\n      <td>Die Mitte / Le Centre</td>\n      <td>7348</td>\n      <td>9.025253</td>\n      <td>306</td>\n      <td>Lyss</td>\n    </tr>\n    <tr>\n      <th>1</th>\n      <td>2</td>\n      <td>SVP</td>\n      <td>13732</td>\n      <td>16.866463</td>\n      <td>306</td>\n      <td>Lyss</td>\n    </tr>\n    <tr>\n      <th>2</th>\n      <td>3</td>\n      <td>UDC</td>\n      <td>325</td>\n      <td>0.399184</td>\n      <td>306</td>\n      <td>Lyss</td>\n    </tr>\n    <tr>\n      <th>3</th>\n      <td>4</td>\n      <td>EVP / PEV</td>\n      <td>4527</td>\n      <td>5.560332</td>\n      <td>306</td>\n      <td>Lyss</td>\n    </tr>\n    <tr>\n      <th>4</th>\n      <td>5</td>\n      <td>*jevp / *jpev</td>\n      <td>1459</td>\n      <td>1.792031</td>\n      <td>306</td>\n      <td>Lyss</td>\n    </tr>\n    <tr>\n      <th>5</th>\n      <td>6</td>\n      <td>EDU / UDF</td>\n      <td>1578</td>\n      <td>1.938194</td>\n      <td>306</td>\n      <td>Lyss</td>\n    </tr>\n    <tr>\n      <th>6</th>\n      <td>7</td>\n      <td>SP Frauen</td>\n      <td>10077</td>\n      <td>12.377174</td>\n      <td>306</td>\n      <td>Lyss</td>\n    </tr>\n    <tr>\n      <th>7</th>\n      <td>8</td>\n      <td>SP Männer</td>\n      <td>5890</td>\n      <td>7.234450</td>\n      <td>306</td>\n      <td>Lyss</td>\n    </tr>\n    <tr>\n      <th>8</th>\n      <td>9</td>\n      <td>PSR</td>\n      <td>383</td>\n      <td>0.470424</td>\n      <td>306</td>\n      <td>Lyss</td>\n    </tr>\n    <tr>\n      <th>9</th>\n      <td>10</td>\n      <td>JUSO / JS</td>\n      <td>975</td>\n      <td>1.197553</td>\n      <td>306</td>\n      <td>Lyss</td>\n    </tr>\n    <tr>\n      <th>10</th>\n      <td>11</td>\n      <td>GLPSeeland / PVLSeeland</td>\n      <td>6069</td>\n      <td>7.454309</td>\n      <td>306</td>\n      <td>Lyss</td>\n    </tr>\n    <tr>\n      <th>11</th>\n      <td>12</td>\n      <td>GLPBiel / PVLBienne</td>\n      <td>1498</td>\n      <td>1.839933</td>\n      <td>306</td>\n      <td>Lyss</td>\n    </tr>\n    <tr>\n      <th>12</th>\n      <td>13</td>\n      <td>JGLP / JVL</td>\n      <td>1426</td>\n      <td>1.751499</td>\n      <td>306</td>\n      <td>Lyss</td>\n    </tr>\n    <tr>\n      <th>13</th>\n      <td>14</td>\n      <td>FDP Biel+</td>\n      <td>1573</td>\n      <td>1.932053</td>\n      <td>306</td>\n      <td>Lyss</td>\n    </tr>\n    <tr>\n      <th>14</th>\n      <td>15</td>\n      <td>FDPSeeland</td>\n      <td>16708</td>\n      <td>20.521765</td>\n      <td>306</td>\n      <td>Lyss</td>\n    </tr>\n    <tr>\n      <th>15</th>\n      <td>16</td>\n      <td>PRR</td>\n      <td>397</td>\n      <td>0.487619</td>\n      <td>306</td>\n      <td>Lyss</td>\n    </tr>\n    <tr>\n      <th>16</th>\n      <td>17</td>\n      <td>JGGL / JVVC</td>\n      <td>3867</td>\n      <td>4.749681</td>\n      <td>306</td>\n      <td>Lyss</td>\n    </tr>\n    <tr>\n      <th>17</th>\n      <td>18</td>\n      <td>JGGG / JVVS</td>\n      <td>1516</td>\n      <td>1.862042</td>\n      <td>306</td>\n      <td>Lyss</td>\n    </tr>\n    <tr>\n      <th>18</th>\n      <td>19</td>\n      <td>ABS</td>\n      <td>1301</td>\n      <td>1.597966</td>\n      <td>306</td>\n      <td>Lyss</td>\n    </tr>\n    <tr>\n      <th>19</th>\n      <td>20</td>\n      <td>DBS</td>\n      <td>21</td>\n      <td>0.025793</td>\n      <td>306</td>\n      <td>Lyss</td>\n    </tr>\n    <tr>\n      <th>20</th>\n      <td>21</td>\n      <td>SD</td>\n      <td>399</td>\n      <td>0.490076</td>\n      <td>306</td>\n      <td>Lyss</td>\n    </tr>\n    <tr>\n      <th>21</th>\n      <td>22</td>\n      <td>PdA / POP</td>\n      <td>347</td>\n      <td>0.426206</td>\n      <td>306</td>\n      <td>Lyss</td>\n    </tr>\n  </tbody>\n</table>\n</div>"
     },
     "execution_count": 91,
     "metadata": {},
     "output_type": "execute_result"
    }
   ],
   "source": [
    "duckdb.query('''\n",
    "    select *\n",
    "    from result_df\n",
    "    where \"Gemeinde-Nummer\" = 306\n",
    "    ''').to_df()"
   ],
   "metadata": {
    "collapsed": false
   }
  }
 ],
 "metadata": {
  "kernelspec": {
   "display_name": "Python 3",
   "language": "python",
   "name": "python3"
  },
  "language_info": {
   "codemirror_mode": {
    "name": "ipython",
    "version": 2
   },
   "file_extension": ".py",
   "mimetype": "text/x-python",
   "name": "python",
   "nbconvert_exporter": "python",
   "pygments_lexer": "ipython2",
   "version": "2.7.6"
  }
 },
 "nbformat": 4,
 "nbformat_minor": 0
}
